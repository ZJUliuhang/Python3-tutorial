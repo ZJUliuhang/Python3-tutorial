{
 "cells": [
  {
   "cell_type": "markdown",
   "metadata": {},
   "source": [
    "## py3基本语法和基本数据类型"
   ]
  },
  {
   "cell_type": "markdown",
   "metadata": {},
   "source": [
    "### 1、关键字"
   ]
  },
  {
   "cell_type": "code",
   "execution_count": 1,
   "metadata": {
    "collapsed": true,
    "scrolled": false
   },
   "outputs": [],
   "source": [
    "#注释1\n",
    "#注释2\n",
    "'''注释\n",
    "多行,也可以输出多行字符串'''\n",
    "\n",
    "#Python可以在同一行中使用多条语句，语句之间使用分号(;)分割\n",
    "#关键字模块\n",
    "import keyword\n",
    "#keyword.kwlist"
   ]
  },
  {
   "cell_type": "code",
   "execution_count": 2,
   "metadata": {},
   "outputs": [
    {
     "name": "stdout",
     "output_type": "stream",
     "text": [
      "1\n"
     ]
    }
   ],
   "source": [
    "#print   print 默认输出是换行的，如果要实现不换行需要在变量末尾加上 end=\"\"\n",
    "a=1\n",
    "print (a)"
   ]
  },
  {
   "cell_type": "markdown",
   "metadata": {},
   "source": [
    "* print(*objects, sep=' ', end='\\n', file=sys.stdout)\n",
    "* objects -- 复数，表示可以一次输出多个对象。输出多个对象时，需要用 , 分隔。\n",
    "* sep -- 用来间隔多个对象，默认值是一个空格。\n",
    "* end -- 用来设定以什么结尾。默认值是换行符 \\n，我们可以换成其他字符串。\n",
    "* file -- 要写入的文件对象"
   ]
  },
  {
   "cell_type": "code",
   "execution_count": 3,
   "metadata": {},
   "outputs": [
    {
     "data": {
      "text/plain": [
       "range(0, 5)"
      ]
     },
     "execution_count": 3,
     "metadata": {},
     "output_type": "execute_result"
    }
   ],
   "source": [
    "#slice()\n",
    "myslice = slice(5)    # 设置截取5个元素的切片\n",
    "arr = range(10)\n",
    "arr[myslice]         # 截取 5 个元素"
   ]
  },
  {
   "cell_type": "markdown",
   "metadata": {},
   "source": [
    "### 2、反斜杠 三引号和空行"
   ]
  },
  {
   "cell_type": "code",
   "execution_count": 4,
   "metadata": {},
   "outputs": [
    {
     "name": "stdout",
     "output_type": "stream",
     "text": [
      "['b', 'o', 'o', 'n', 'u', 'R']\n"
     ]
    }
   ],
   "source": [
    "seqString = 'Runoob'\n",
    "print(list(reversed(seqString)))##不能用str "
   ]
  },
  {
   "cell_type": "code",
   "execution_count": 5,
   "metadata": {},
   "outputs": [
    {
     "name": "stdout",
     "output_type": "stream",
     "text": [
      "abc\n",
      "asfjkl\n",
      "asd\n",
      "faf\n",
      "af\n",
      "af\n"
     ]
    },
    {
     "data": {
      "text/plain": [
       "'asisas'"
      ]
     },
     "execution_count": 5,
     "metadata": {},
     "output_type": "execute_result"
    }
   ],
   "source": [
    "#多行语句，用反斜杠，多行字符串用三引号\n",
    "#自然字符串， 通过在字符串前加r或R。 如 r\"this is a line with \\n\" 则\\n会显示，并不是换行。\n",
    "#python允许处理unicode字符串，加前缀u或U， 如 u\"this is an unicode string\"。\n",
    "#按字面意义级联字符串，如\"this \" \"is \" \"string\"会被自动转换为this is string\n",
    "total1='a'+\\\n",
    "'b'+\\\n",
    "'c'\n",
    "print(total1)\n",
    "total2='''asfjkl\n",
    "asd\n",
    "faf\n",
    "af\n",
    "af'''\n",
    "print(total2)\n",
    "a='as''is''as'\n",
    "a"
   ]
  },
  {
   "cell_type": "code",
   "execution_count": 6,
   "metadata": {
    "collapsed": true
   },
   "outputs": [],
   "source": [
    "#空行，函数之间或类的方法之间用空行分隔，表示一段新的代码的开始。\n",
    "#类和函数入口之间也用一行空行分隔，以突出函数入口的开始\n",
    "#空行与代码缩进不同，空行并不是Python语法的一部分。书写时不插入空行，\n",
    "#Python解释器运行也不会出错。但是空行的作用在于分隔两段不同功能或含义的代码，便于日后代码的维护或重构。\n",
    "#空行也是程序的一部分"
   ]
  },
  {
   "cell_type": "code",
   "execution_count": 7,
   "metadata": {},
   "outputs": [
    {
     "name": "stdout",
     "output_type": "stream",
     "text": [
      "a b "
     ]
    }
   ],
   "source": [
    "#不换行输出\n",
    "x=\"a\"\n",
    "y=\"b\"\n",
    "print( x, end=\" \" )\n",
    "print( y, end=\" \" )"
   ]
  },
  {
   "cell_type": "code",
   "execution_count": 9,
   "metadata": {},
   "outputs": [
    {
     "name": "stdout",
     "output_type": "stream",
     "text": [
      "================Python import mode==========================\n",
      "命令行参数为:\n",
      "D:\\Anaconda3\\lib\\site-packages\\ipykernel_launcher.py\n",
      "-f\n",
      "C:\\Users\\HANG LIU\\AppData\\Roaming\\jupyter\\runtime\\kernel-df042aa2-8d41-4116-a846-d1cfaac7a617.json\n",
      "\n",
      " python 路径为 ['', 'D:\\\\Anaconda3\\\\python36.zip', 'D:\\\\Anaconda3\\\\DLLs', 'D:\\\\Anaconda3\\\\lib', 'D:\\\\Anaconda3', 'D:\\\\Anaconda3\\\\lib\\\\site-packages', 'D:\\\\Anaconda3\\\\lib\\\\site-packages\\\\Babel-2.5.0-py3.6.egg', 'D:\\\\Anaconda3\\\\lib\\\\site-packages\\\\win32', 'D:\\\\Anaconda3\\\\lib\\\\site-packages\\\\win32\\\\lib', 'D:\\\\Anaconda3\\\\lib\\\\site-packages\\\\Pythonwin', 'D:\\\\Anaconda3\\\\lib\\\\site-packages\\\\IPython\\\\extensions', 'C:\\\\Users\\\\HANG LIU\\\\.ipython']\n",
      "================python from import===================================\n",
      "path: ['', 'D:\\\\Anaconda3\\\\python36.zip', 'D:\\\\Anaconda3\\\\DLLs', 'D:\\\\Anaconda3\\\\lib', 'D:\\\\Anaconda3', 'D:\\\\Anaconda3\\\\lib\\\\site-packages', 'D:\\\\Anaconda3\\\\lib\\\\site-packages\\\\Babel-2.5.0-py3.6.egg', 'D:\\\\Anaconda3\\\\lib\\\\site-packages\\\\win32', 'D:\\\\Anaconda3\\\\lib\\\\site-packages\\\\win32\\\\lib', 'D:\\\\Anaconda3\\\\lib\\\\site-packages\\\\Pythonwin', 'D:\\\\Anaconda3\\\\lib\\\\site-packages\\\\IPython\\\\extensions', 'C:\\\\Users\\\\HANG LIU\\\\.ipython']\n"
     ]
    }
   ],
   "source": [
    "#import\n",
    "#from somemodule import firstfunc, secondfunc, thirdfunc\n",
    "#from somemodule import *\n",
    "import sys\n",
    "print('================Python import mode==========================');\n",
    "print ('命令行参数为:')\n",
    "for i in sys.argv:\n",
    "    print (i)\n",
    "print ('\\n python 路径为',sys.path)\n",
    "from sys import argv,path  #  导入特定的成员\n",
    " \n",
    "print('================python from import===================================')\n",
    "print('path:',path) # 因为已经导入path成员，所以此处引用时不需要加sys.path"
   ]
  },
  {
   "cell_type": "code",
   "execution_count": 10,
   "metadata": {},
   "outputs": [
    {
     "name": "stdout",
     "output_type": "stream",
     "text": [
      "['D:\\\\Anaconda3\\\\lib\\\\site-packages\\\\ipykernel_launcher.py', '-f', 'C:\\\\Users\\\\HANG LIU\\\\AppData\\\\Roaming\\\\jupyter\\\\runtime\\\\kernel-df042aa2-8d41-4116-a846-d1cfaac7a617.json']\n"
     ]
    },
    {
     "data": {
      "text/plain": [
       "'-f'"
      ]
     },
     "execution_count": 10,
     "metadata": {},
     "output_type": "execute_result"
    }
   ],
   "source": [
    "print(sys.argv)\n",
    "len(sys.argv)#命令行参数个数\n",
    "sys.argv[1]#脚本名字"
   ]
  },
  {
   "cell_type": "markdown",
   "metadata": {},
   "source": [
    "### 3、多变量赋值 类型 删除变量 转义字符"
   ]
  },
  {
   "cell_type": "code",
   "execution_count": 11,
   "metadata": {},
   "outputs": [
    {
     "name": "stdout",
     "output_type": "stream",
     "text": [
      "1 1 1 (1+2j)\n",
      "1 2 runoob\n",
      "True\n",
      "True\n",
      "True\n",
      "True\n",
      "False\n"
     ]
    },
    {
     "data": {
      "text/plain": [
       "__main__.A"
      ]
     },
     "execution_count": 11,
     "metadata": {},
     "output_type": "execute_result"
    }
   ],
   "source": [
    "#多变量赋值 \n",
    "#数字（int float bool complex）、字符串()、列表、元组、集合、字典\n",
    "#/返回浮点数。//返回整数\n",
    "a = b = c = 1 # 也可以a,b=1,2\n",
    "d=complex(1,2)\n",
    "print (a,b,c,d)\n",
    "a, b, c = 1, 2, \"runoob\"\n",
    "print (a,b,c)\n",
    "#判断类型 type() or isinstance()\n",
    "print(isinstance(a,int))\n",
    "#type 和 instance 的区别:\n",
    "#type()不会认为子类是一种父类类型。isinstance()会认为子类是一种父类类型\n",
    "class A:\n",
    "    pass\n",
    "\n",
    "class B(A):\n",
    "    pass\n",
    "\n",
    "print(isinstance(A(), A))  # returns True\n",
    "print(type(A()) == A)      # returns True\n",
    "print(isinstance(B(), A))    # returns True\n",
    "print(type(B()) == A)        # returns False\n",
    "type(A())"
   ]
  },
  {
   "cell_type": "code",
   "execution_count": 12,
   "metadata": {},
   "outputs": [
    {
     "name": "stdout",
     "output_type": "stream",
     "text": [
      "1\n"
     ]
    },
    {
     "ename": "NameError",
     "evalue": "name 'a' is not defined",
     "output_type": "error",
     "traceback": [
      "\u001b[1;31m---------------------------------------------------------------------------\u001b[0m",
      "\u001b[1;31mNameError\u001b[0m                                 Traceback (most recent call last)",
      "\u001b[1;32m<ipython-input-12-81839b80b0be>\u001b[0m in \u001b[0;36m<module>\u001b[1;34m()\u001b[0m\n\u001b[0;32m      3\u001b[0m \u001b[0mprint\u001b[0m \u001b[1;33m(\u001b[0m\u001b[0ma\u001b[0m\u001b[1;33m)\u001b[0m\u001b[1;33m\u001b[0m\u001b[0m\n\u001b[0;32m      4\u001b[0m \u001b[1;32mdel\u001b[0m \u001b[0ma\u001b[0m\u001b[1;31m#del a,b,c\u001b[0m\u001b[1;33m\u001b[0m\u001b[0m\n\u001b[1;32m----> 5\u001b[1;33m \u001b[0ma\u001b[0m\u001b[1;33m\u001b[0m\u001b[0m\n\u001b[0m",
      "\u001b[1;31mNameError\u001b[0m: name 'a' is not defined"
     ]
    }
   ],
   "source": [
    "#del\n",
    "a=1\n",
    "print (a)\n",
    "del a#del a,b,c \n",
    "a"
   ]
  },
  {
   "cell_type": "code",
   "execution_count": 13,
   "metadata": {},
   "outputs": [
    {
     "name": "stdout",
     "output_type": "stream",
     "text": [
      "Ru\n",
      "oob\n",
      "Ru\\noob\n"
     ]
    }
   ],
   "source": [
    "#转义字符的使用 r；与 C 字符串不同的是，Python 字符串不能被改变，\n",
    "#字符串有两种索引方式，从左往右以0开始，从右往左以-1开始\n",
    "print('Ru\\noob')\n",
    "print(r'Ru\\noob')"
   ]
  },
  {
   "cell_type": "markdown",
   "metadata": {},
   "source": [
    "### 4、列表 元组 集合 字典"
   ]
  },
  {
   "attachments": {},
   "cell_type": "markdown",
   "metadata": {},
   "source": [
    "* 列表内置函数\n",
    "![列表内置函数](./photo/列表内置函数.png)"
   ]
  },
  {
   "cell_type": "code",
   "execution_count": 14,
   "metadata": {},
   "outputs": [
    {
     "name": "stdout",
     "output_type": "stream",
     "text": [
      "['abcd', 786, 2.23, 'runoob', 70.2]\n",
      "abcd\n",
      "[786, 2.23]\n",
      "[2.23, 'runoob', 70.2]\n",
      "[123, 'runoob', 123, 'runoob']\n",
      "['abcd', 786, 2.23, 'runoob', 70.2, 123, 'runoob']\n",
      "['abcd', 786, 70.2]\n"
     ]
    }
   ],
   "source": [
    "#List\n",
    "list = [ 'abcd', 786 , 2.23, 'runoob', 70.2 ]\n",
    "tinylist = [123, 'runoob']\n",
    " \n",
    "print (list)            # 输出完整列表\n",
    "print (list[0])         # 输出列表第一个元素\n",
    "print (list[1:3])       # 从第二个开始输出到第三个元素\n",
    "print (list[2:])        # 输出从第三个元素开始的所有元素\n",
    "print (tinylist * 2)    # 输出两次列表\n",
    "print (list + tinylist) # 连接列表\n",
    "list[2:4]=[]#删除\n",
    "print(list)"
   ]
  },
  {
   "attachments": {},
   "cell_type": "markdown",
   "metadata": {},
   "source": [
    "* 元组内置函数\n",
    "![元组内置函数](./photo/元组内置函数.png)"
   ]
  },
  {
   "cell_type": "code",
   "execution_count": 15,
   "metadata": {},
   "outputs": [
    {
     "name": "stdout",
     "output_type": "stream",
     "text": [
      "('abcd', 786, 2.23, 'runoob', 70.2)\n",
      "abcd\n",
      "(786, 2.23)\n",
      "(2.23, 'runoob', 70.2)\n",
      "(123, 'runoob', 123, 'runoob')\n",
      "('abcd', 786, 2.23, 'runoob', 70.2, 123, 'runoob')\n"
     ]
    }
   ],
   "source": [
    "#Tuple 元组的元素不能修改 \n",
    "#虽然tuple的元素不可改变，但它可以包含可变的对象，比如list列表\n",
    "tuple = ( 'abcd', 786 , 2.23, 'runoob', 70.2  )\n",
    "tinytuple = (123, 'runoob')\n",
    " \n",
    "print (tuple)             # 输出完整元组\n",
    "print (tuple[0])          # 输出元组的第一个元素\n",
    "print (tuple[1:3])        # 输出从第二个元素开始到第三个元素\n",
    "print (tuple[2:])         # 输出从第三个元素开始的所有元素\n",
    "print (tinytuple * 2)     # 输出两次元组\n",
    "print (tuple + tinytuple) # 连接元组\n",
    "tup1 = ()    # 空元组\n",
    "tup2 = (20,) # 一个元素，需要在元素后添加逗号"
   ]
  },
  {
   "cell_type": "code",
   "execution_count": 16,
   "metadata": {},
   "outputs": [
    {
     "name": "stdout",
     "output_type": "stream",
     "text": [
      "{'Rose', 'Jack', 'Jim', 'Tom', 'Mary'}\n",
      "Rose 在集合中\n",
      "{'d', 'r', 'c', 'a', 'b'}\n",
      "{'d', 'b', 'r'}\n",
      "{'d', 'm', 'r', 'c', 'l', 'a', 'z', 'b'}\n",
      "{'c', 'a'}\n",
      "{'m', 'd', 'r', 'z', 'b', 'l'}\n"
     ]
    }
   ],
   "source": [
    "#Set 无序不重复元素的序列,基本功能是进行成员关系测试和删除重复元素。\n",
    "#可以使用大括号 { } 或者 set() 函数创建集合\n",
    "#注意：创建一个空集合必须用 set() 而不是 { }，因为 { } 是用来创建一个空字典。\n",
    "student = {'Tom', 'Jim', 'Mary', 'Tom', 'Jack', 'Rose'}\n",
    " \n",
    "print(student)   # 输出集合，重复的元素被自动去掉\n",
    " \n",
    "# 成员测试\n",
    "if('Rose' in student) :\n",
    "    print('Rose 在集合中')\n",
    "else :\n",
    "    print('Rose 不在集合中')\n",
    " \n",
    " \n",
    "# set可以进行集合运算\n",
    "a = set('abracadabra')#可以看一下输出\n",
    "b = set('alacazam')\n",
    " \n",
    "print(a)\n",
    " \n",
    "print(a - b)     # a和b的差集\n",
    " \n",
    "print(a | b)     # a和b的并集\n",
    " \n",
    "print(a & b)     # a和b的交集\n",
    " \n",
    "print(a ^ b)     # a和b中不同时存在的元素"
   ]
  },
  {
   "attachments": {},
   "cell_type": "markdown",
   "metadata": {},
   "source": [
    "* 字典内置函数\n",
    "![字典内置函数](./photo/字典内置函数.png)"
   ]
  },
  {
   "cell_type": "code",
   "execution_count": 17,
   "metadata": {},
   "outputs": [
    {
     "name": "stdout",
     "output_type": "stream",
     "text": [
      "1 - 菜鸟教程\n",
      "2 - 菜鸟工具\n",
      "{'name': 'runoob', 'code': 1, 'site': 'www.runoob.com'}\n",
      "dict_keys(['name', 'code', 'site'])\n",
      "dict_values(['runoob', 1, 'www.runoob.com'])\n",
      "dict_items([('name', 'runoob'), ('code', 1), ('site', 'www.runoob.com')])\n"
     ]
    }
   ],
   "source": [
    "#Dictionary 列表是有序的对象结合，字典是无序的对象集合\n",
    "#区别在于：字典当中的元素是通过键来存取的，而不是通过偏移存取。\n",
    "#键(key)必须使用不可变类型\n",
    "\n",
    "\n",
    "dict = {}\n",
    "dict['one'] = \"1 - 菜鸟教程\"\n",
    "dict[2]     = \"2 - 菜鸟工具\"\n",
    " \n",
    "tinydict = {'name': 'runoob','code':1, 'site': 'www.runoob.com'}\n",
    " \n",
    "print (dict['one'])       # 输出键为 'one' 的值\n",
    "print (dict[2])           # 输出键为 2 的值\n",
    "print (tinydict)          # 输出完整的字典\n",
    "print (tinydict.keys())   # 输出所有键\n",
    "print (tinydict.values()) # 输出所有值\n",
    "print (tinydict.items())  #返回的是列表，数据类型是元组\n",
    "del dict \n",
    "# dict()是python的一个函数，但我又将dict自定义为一个python字典，\n",
    "#在之后想调用dict()函数是会报出“TypeError: 'dict' object is not callable”的错误"
   ]
  },
  {
   "cell_type": "code",
   "execution_count": 18,
   "metadata": {},
   "outputs": [
    {
     "name": "stdout",
     "output_type": "stream",
     "text": [
      "{'Runoob': 1, 'Google': 2, 'Taobao': 3} \n",
      " {2: 4, 4: 16, 6: 36} \n",
      " {'Runoob': 1, 'Google': 2, 'Taobao': 3}\n",
      "{'Runoob': 1, 'Google': 5, 'Taobao': 3} \n",
      " {2: 4, 4: 16, 6: 36, 'asd': 'wer'}\n"
     ]
    },
    {
     "data": {
      "text/plain": [
       "{'one': 1, 'three': 3, 'two': 2}"
      ]
     },
     "execution_count": 18,
     "metadata": {},
     "output_type": "execute_result"
    }
   ],
   "source": [
    "a=dict([('Runoob', 1), ('Google', 2), ('Taobao', 3)])#可迭代对象方式来构造字典\n",
    "b={x: x**2 for x in (2, 4, 6)}\n",
    "c=dict(Runoob=1, Google=2, Taobao=3)#构建字典\n",
    "print(a, '\\n',b,'\\n',c)\n",
    "a['Google']=5#改变字典\n",
    "b['asd']='wer'#添加对象\n",
    "print(a, '\\n',b)\n",
    "m=dict(zip(['one', 'two', 'three'], [1, 2, 3]))#映射函数方式来构造字典\n",
    "m"
   ]
  },
  {
   "cell_type": "markdown",
   "metadata": {},
   "source": [
    "### 5、位运算符"
   ]
  },
  {
   "cell_type": "code",
   "execution_count": 19,
   "metadata": {},
   "outputs": [
    {
     "name": "stdout",
     "output_type": "stream",
     "text": [
      "12\n",
      "61\n",
      "49\n",
      "-61\n",
      "240\n",
      "15\n"
     ]
    }
   ],
   "source": [
    "#位运输算符 & | ^ ~ << >>\n",
    "#转换成二进制数后进行计算\n",
    "print(60&13) #60=0011 1100;13=0000 1101\n",
    "print(60|13)\n",
    "print(60^13)\n",
    "print(~60)\n",
    "print(60<<2)\n",
    "print(60>>2)"
   ]
  },
  {
   "cell_type": "code",
   "execution_count": 20,
   "metadata": {},
   "outputs": [
    {
     "name": "stdout",
     "output_type": "stream",
     "text": [
      "57\n",
      "56.5\n",
      "56.55\n",
      "1\n",
      "81\n",
      "81.0\n"
     ]
    }
   ],
   "source": [
    "#round 四舍五入用法\n",
    "print(round(56.545))\n",
    "print(round(56.545,1))\n",
    "print(round(56.545,2))\n",
    "\n",
    "#pow 的两种用法\n",
    "print(pow(3,4,4))#3^4%4\n",
    "print (pow(3,4))\n",
    "import math\n",
    "print(math.pow(3,4))"
   ]
  },
  {
   "cell_type": "markdown",
   "metadata": {},
   "source": [
    "### 6、随机函数 数学函数 format函数 匿名函数"
   ]
  },
  {
   "cell_type": "code",
   "execution_count": 21,
   "metadata": {},
   "outputs": [
    {
     "name": "stdout",
     "output_type": "stream",
     "text": [
      "从 range(100) 返回一个随机数 :  52\n",
      "从列表中 [1, 2, 3, 5, 9]) 返回一个随机元素 :  2\n",
      "从字符串中 'Runoob' 返回一个随机字符 :  n\n",
      "randrange(1,100, 2) :  77\n",
      "randrange(100) :  54\n",
      "random() :  0.5924026260318155\n",
      "random() :  0.16561487031310673\n",
      "随机排序列表 :  [10, 5, 16, 20]\n",
      "随机排序列表 :  [5, 20, 10, 16]\n",
      "uniform(5, 10) 的随机浮点数 :  7.730927447511994\n",
      "uniform(7, 14) 的随机浮点数 :  11.738355683264576\n"
     ]
    }
   ],
   "source": [
    "#随机函数\n",
    "import random\n",
    "\n",
    "print (\"从 range(100) 返回一个随机数 : \",random.choice(range(100)))\n",
    "print (\"从列表中 [1, 2, 3, 5, 9]) 返回一个随机元素 : \", random.choice([1, 2, 3, 5, 9]))\n",
    "print (\"从字符串中 'Runoob' 返回一个随机字符 : \", random.choice('Runoob'))\n",
    "# 从 1-100 中选取一个奇数\n",
    "print (\"randrange(1,100, 2) : \", random.randrange(1, 100, 2))\n",
    "\n",
    "# 从 0-99 选取一个随机数\n",
    "print (\"randrange(100) : \", random.randrange(100))\n",
    "\n",
    "# 第一个随机数\n",
    "print (\"random() : \", random.random())\n",
    "\n",
    "# 第二个随机数\n",
    "print (\"random() : \", random.random())\n",
    "\n",
    "##随机函数\n",
    "list = [20, 16, 10, 5];\n",
    "random.shuffle(list)   #随机排序列表\n",
    "print (\"随机排序列表 : \",  list)\n",
    " \n",
    "random.shuffle(list)\n",
    "print (\"随机排序列表 : \",  list)\n",
    "\n",
    "print (\"uniform(5, 10) 的随机浮点数 : \",  random.uniform(5, 10))\n",
    "\n",
    "print (\"uniform(7, 14) 的随机浮点数 : \",  random.uniform(7, 14))"
   ]
  },
  {
   "cell_type": "code",
   "execution_count": 22,
   "metadata": {},
   "outputs": [
    {
     "name": "stdout",
     "output_type": "stream",
     "text": [
      "0.9999999999999999\n",
      "degrees(3) :  171.88733853924697\n",
      "degrees(-3) :  -171.88733853924697\n",
      "degrees(0) :  0.0\n",
      "degrees(math.pi) :  180.0\n",
      "degrees(math.pi/2) :  90.0\n",
      "radians(3) :  0.05235987755982989\n",
      "radians(-3) :  -0.05235987755982989\n",
      "radians(0) :  0.0\n",
      "hypot(3, 2) :  3.605551275463989\n",
      "2.718281828459045 3.141592653589793\n"
     ]
    }
   ],
   "source": [
    "import math\n",
    "print (math.tan(math.pi/4))\n",
    "print (\"degrees(3) : \",  math.degrees(3))\n",
    "print (\"degrees(-3) : \",  math.degrees(-3))\n",
    "print (\"degrees(0) : \",  math.degrees(0))\n",
    "print (\"degrees(math.pi) : \",  math.degrees(math.pi))#弧度变角度\n",
    "print (\"degrees(math.pi/2) : \",  math.degrees(math.pi/2))\n",
    "print (\"radians(3) : \",  math.radians(3))#角度变弧度\n",
    "print (\"radians(-3) : \",  math.radians(-3))\n",
    "print (\"radians(0) : \",  math.radians(0))\n",
    "\n",
    "#返回欧几里得范数\n",
    "print (\"hypot(3, 2) : \",  math.hypot(3, 2))\n",
    "a=math.e; b=math.pi\n",
    "print(a,b)"
   ]
  },
  {
   "cell_type": "code",
   "execution_count": 24,
   "metadata": {},
   "outputs": [
    {
     "name": "stdout",
     "output_type": "stream",
     "text": [
      "hello world \n",
      " hello world \n",
      " world hello world\n",
      "网站名：菜鸟教程, 地址 www.runoob.com\n",
      "网站名：菜鸟教程, 地址 www.runoob.com\n",
      "网站名：菜鸟教程, 地址 www.runoob.com\n"
     ]
    }
   ],
   "source": [
    "#format1\n",
    "a='{} {}'.format(\"hello\", \"world\")    # 不设置指定位置，按默认顺序\n",
    "b=\"{0} {1}\".format(\"hello\", \"world\")  # 设置指定位置\n",
    "c=\"{1} {0} {1}\".format(\"hello\", \"world\")  # 设置指定位置\n",
    "print (a,'\\n',b,'\\n',c)\n",
    "\n",
    "print(\"网站名：{name}, 地址 {url}\".format(name=\"菜鸟教程\", url=\"www.runoob.com\"))\n",
    " \n",
    "# 通过字典设置参数\n",
    "site = {\"name\": \"菜鸟教程\", \"url\": \"www.runoob.com\"}\n",
    "print(\"网站名：{name}, 地址 {url}\".format(**site))\n",
    " \n",
    "# 通过列表索引设置参数\n",
    "my_list = ['菜鸟教程', 'www.runoob.com']\n",
    "print(\"网站名：{0[0]}, 地址 {0[1]}\".format(my_list))  # \"0\" 是可选的"
   ]
  },
  {
   "cell_type": "code",
   "execution_count": 25,
   "metadata": {},
   "outputs": [
    {
     "name": "stdout",
     "output_type": "stream",
     "text": [
      "3.14\n",
      "+3.14\n",
      "-1.00\n",
      "3\n",
      "05\n",
      "5xxx\n",
      "10xx\n",
      "1,222,222,222,220\n",
      "25.000%\n",
      "1.000e+13\n",
      "        13\n",
      "13        \n",
      "    13    \n"
     ]
    }
   ],
   "source": [
    "#format2\n",
    "print(\"{:.2f}\".format(3.1415926)) #保留小数点后两位\n",
    "print(\"{:+.2f}\".format(3.1415926)) #带符号保留小数点后两位\n",
    "print(\"{:+.2f}\".format(-1)) #带符号保留小数点后两位\n",
    "print(\"{:.0f}\".format(2.71828))#不带小数\n",
    "print(\"{:0>2d}\".format(5))#数字补零 (填充左边, 宽度为2)\n",
    "print(\"{:x<4d}\".format(5))#数字补x (填充右边, 宽度为4)\n",
    "print(\"{:x<4d}\".format(10))#数字补x (填充右边, 宽度为4)\n",
    "print(\"{:,}\".format(1222222222220)) #以逗号分隔的数字格式\n",
    "print(\"{:.3%}\".format(0.25))#百分比格式,3为小数位置\n",
    "print(\"{:.3e}\".format(10000000000000))#指数格式\n",
    "print(\"{:10d}\".format(13))#右对齐 (默认, 宽度为10)\n",
    "print(\"{:<10d}\".format(13))#左对齐 (宽度为10)\n",
    "print(\"{:^10d}\".format(13))#中间对齐 (宽度为10)\n",
    "\n",
    "#{:b}'.format(11)  b、d、o、x 分别是二进制、十进制、八进制、十六进制。"
   ]
  },
  {
   "cell_type": "code",
   "execution_count": 27,
   "metadata": {},
   "outputs": [
    {
     "name": "stdout",
     "output_type": "stream",
     "text": [
      "相加后的值为 :  30\n",
      "相加后的值为 :  40\n"
     ]
    }
   ],
   "source": [
    "#匿名函数 python 使用 lambda 来创建匿名函数，lambda的主体是一个表达式\n",
    "#虽然lambda函数看起来只能写一行，却不等同于C或C++的内联函数，\n",
    "#后者的目的是调用小函数时不占用栈内存从而增加运行效率\n",
    "\n",
    "# 可写函数说明\n",
    "sum = lambda arg1, arg2: arg1 + arg2;\n",
    " \n",
    "# 调用sum函数\n",
    "print (\"相加后的值为 : \", sum( 10, 20 ))\n",
    "print (\"相加后的值为 : \", sum( 20, 20 ))"
   ]
  },
  {
   "cell_type": "code",
   "execution_count": 28,
   "metadata": {},
   "outputs": [
    {
     "name": "stdout",
     "output_type": "stream",
     "text": [
      "0  小于 5\n",
      "1  小于 5\n",
      "2  小于 5\n",
      "3  小于 5\n",
      "4  小于 5\n",
      "5  大于或等于 5\n"
     ]
    }
   ],
   "source": [
    "#while循环使用 else\n",
    "count = 0\n",
    "while count < 5:\n",
    "    print (count, \" 小于 5\")\n",
    "    count = count + 1\n",
    "else:\n",
    "    print (count, \" 大于或等于 5\")"
   ]
  },
  {
   "cell_type": "markdown",
   "metadata": {},
   "source": [
    "### 7、迭代器 生成器"
   ]
  },
  {
   "cell_type": "code",
   "execution_count": 29,
   "metadata": {},
   "outputs": [
    {
     "name": "stdout",
     "output_type": "stream",
     "text": [
      "1\n",
      "2\n",
      "3\n"
     ]
    }
   ],
   "source": [
    "#迭代器有两个基本的方法：iter() 和 next()。\n",
    "#字符串，列表或元组对象都可用于创建迭代器\n",
    "list=[1,2,3,4]\n",
    "it = iter(list)    # 创建迭代器对象\n",
    "print (next(it))   # 输出迭代器的下一个元素\n",
    "print (next(it))   # 输出迭代器的下一个元素\n",
    "print (next(it))   # 输出迭代器的下一个元素for x in it:"
   ]
  },
  {
   "cell_type": "code",
   "execution_count": 30,
   "metadata": {},
   "outputs": [
    {
     "name": "stdout",
     "output_type": "stream",
     "text": [
      "1 2 3 4 "
     ]
    }
   ],
   "source": [
    "list=[1,2,3,4]\n",
    "it = iter(list)    # 创建迭代器对象\n",
    "for x in it:    # for 遍历\n",
    "    print (x, end=\" \")"
   ]
  },
  {
   "cell_type": "code",
   "execution_count": 31,
   "metadata": {},
   "outputs": [
    {
     "name": "stdout",
     "output_type": "stream",
     "text": [
      "1\n",
      "2\n",
      "3\n",
      "4\n"
     ]
    },
    {
     "ename": "SystemExit",
     "evalue": "stop",
     "output_type": "error",
     "traceback": [
      "An exception has occurred, use %tb to see the full traceback.\n",
      "\u001b[1;31mSystemExit\u001b[0m\u001b[1;31m:\u001b[0m stop\n"
     ]
    },
    {
     "name": "stderr",
     "output_type": "stream",
     "text": [
      "D:\\Anaconda3\\lib\\site-packages\\IPython\\core\\interactiveshell.py:2870: UserWarning: To exit: use 'exit', 'quit', or Ctrl-D.\n",
      "  warn(\"To exit: use 'exit', 'quit', or Ctrl-D.\", stacklevel=1)\n"
     ]
    }
   ],
   "source": [
    "import sys         # 引入 sys 模块\n",
    " \n",
    "list=[1,2,3,4]\n",
    "it = iter(list)    # 创建迭代器对象\n",
    " \n",
    "while True:\n",
    "    try:\n",
    "        print (next(it))\n",
    "    except StopIteration:\n",
    "        sys.exit('stop')"
   ]
  },
  {
   "cell_type": "code",
   "execution_count": 32,
   "metadata": {},
   "outputs": [
    {
     "name": "stdout",
     "output_type": "stream",
     "text": [
      "0 1 1 2 3 5 8 13 21 34 55 "
     ]
    },
    {
     "ename": "SystemExit",
     "evalue": "",
     "output_type": "error",
     "traceback": [
      "An exception has occurred, use %tb to see the full traceback.\n",
      "\u001b[1;31mSystemExit\u001b[0m\n"
     ]
    },
    {
     "name": "stderr",
     "output_type": "stream",
     "text": [
      "D:\\Anaconda3\\lib\\site-packages\\IPython\\core\\interactiveshell.py:2870: UserWarning: To exit: use 'exit', 'quit', or Ctrl-D.\n",
      "  warn(\"To exit: use 'exit', 'quit', or Ctrl-D.\", stacklevel=1)\n"
     ]
    }
   ],
   "source": [
    "#使用了 yield 的函数被称为生成器（generator）\n",
    "#跟普通函数不同的是，生成器是一个返回迭代器的函数，只能用于迭代操作，更简单点理解生成器就是一个迭代器。\n",
    "import sys\n",
    " \n",
    "def fibonacci(n): # 生成器函数 - 斐波那契\n",
    "    a, b, counter = 0, 1, 0\n",
    "    while True:\n",
    "        if (counter > n): \n",
    "            return #不带表达式的return相当于返回 None\n",
    "        yield a\n",
    "        a, b = b, a + b\n",
    "        counter += 1\n",
    "f = fibonacci(10) # f 是一个迭代器，由生成器返回生成\n",
    "\n",
    "while True:\n",
    "    try:\n",
    "        print (next(f), end=\" \")\n",
    "    except StopIteration:\n",
    "        sys.exit()"
   ]
  },
  {
   "cell_type": "markdown",
   "metadata": {},
   "source": [
    "### 8、mutable 和 immutable 以及变量作用域 global nonlocal关键字\n",
    "***\n",
    ">在 python 中，*strings, tuples, 和 numbers* 是**不可更改**的对象，而 list,dict 等则是可以修改的对象。\n",
    ">不定长参数 ，加了星号的变量名会存放所有未命名的变量参数。如果在函数调用时没有指定参数，它就是一个空元组。\n",
    "\n",
    ">Python的作用域一共有4种,L （Local） 局部作用域,E （Enclosing） 闭包函数外的函数中,G （Global） 全局作用域,B （Built-in） 内建作用域.以 L –> E –> G –>B 的规则查找\n",
    "\n",
    ">当内部作用域想修改外部作用域的变量时，就要用到global和nonlocal关键字了"
   ]
  },
  {
   "cell_type": "code",
   "execution_count": 33,
   "metadata": {},
   "outputs": [
    {
     "name": "stdout",
     "output_type": "stream",
     "text": [
      "输出: \n",
      "10\n",
      "输出: \n",
      "70\n",
      "60\n",
      "50\n"
     ]
    }
   ],
   "source": [
    "#基本语法，不要运行\n",
    "#def functionname([formal_args,] *var_args_tuple ):\n",
    "#   \"函数_文档字符串\"\n",
    "#   function_suite\n",
    "#   return [expression]\n",
    "\n",
    "# 可写函数说明\n",
    "def printinfo( arg1, *vartuple ):\n",
    "    '打印任何传入的参数'\n",
    "    print (\"输出: \")\n",
    "    print (arg1)\n",
    "    for var in vartuple:\n",
    "        print (var)\n",
    "    return;\n",
    " \n",
    "# 调用printinfo 函数\n",
    "printinfo( 10 );\n",
    "printinfo( 70, 60, 50 );"
   ]
  },
  {
   "cell_type": "code",
   "execution_count": 34,
   "metadata": {
    "collapsed": true
   },
   "outputs": [],
   "source": [
    "x = int(2.9)  # 内建作用域\n",
    " \n",
    "g_count = 0  # 全局作用域\n",
    "def outer():\n",
    "    o_count = 1  # 闭包函数外的函数中\n",
    "    def inner():\n",
    "        i_count = 2  # 局部作用域"
   ]
  },
  {
   "cell_type": "code",
   "execution_count": 35,
   "metadata": {},
   "outputs": [
    {
     "name": "stdout",
     "output_type": "stream",
     "text": [
      "1\n",
      "123\n"
     ]
    },
    {
     "data": {
      "text/plain": [
       "123"
      ]
     },
     "execution_count": 35,
     "metadata": {},
     "output_type": "execute_result"
    }
   ],
   "source": [
    "#修改全局变量\n",
    "num = 1\n",
    "def fun1():\n",
    "    global num  # 需要使用 global 关键字声明\n",
    "    print(num) \n",
    "    num = 123\n",
    "    print(num)\n",
    "fun1()\n",
    "num"
   ]
  },
  {
   "cell_type": "markdown",
   "metadata": {},
   "source": [
    "* 如果要修改嵌套作用域（enclosing 作用域，外层非全局作用域）中的变量则需要 nonlocal 关键字了，如下实例"
   ]
  },
  {
   "cell_type": "code",
   "execution_count": 36,
   "metadata": {},
   "outputs": [
    {
     "name": "stdout",
     "output_type": "stream",
     "text": [
      "100\n",
      "100\n"
     ]
    }
   ],
   "source": [
    "def outer():\n",
    "    num = 10\n",
    "    def inner():\n",
    "        nonlocal num   # nonlocal关键字声明\n",
    "        num = 100\n",
    "        print(num)\n",
    "    inner()\n",
    "    print(num)\n",
    "outer()"
   ]
  },
  {
   "attachments": {},
   "cell_type": "markdown",
   "metadata": {},
   "source": [
    "* 字符串内置函数\n",
    "![字符串内置函数](./photo/字符串内置函数.png)"
   ]
  }
 ],
 "metadata": {
  "kernelspec": {
   "display_name": "Python 3",
   "language": "python",
   "name": "python3"
  },
  "language_info": {
   "codemirror_mode": {
    "name": "ipython",
    "version": 3
   },
   "file_extension": ".py",
   "mimetype": "text/x-python",
   "name": "python",
   "nbconvert_exporter": "python",
   "pygments_lexer": "ipython3",
   "version": "3.6.3"
  }
 },
 "nbformat": 4,
 "nbformat_minor": 2
}
