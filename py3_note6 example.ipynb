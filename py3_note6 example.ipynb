{
 "cells": [
  {
   "cell_type": "markdown",
   "metadata": {},
   "source": [
    "* super() 函数用于调用下一个父类(超类)并返回该父类实例的方法。\n",
    "* super 是用来解决多重继承问题的，直接用类名调用父类方法在使用单继承的时候没问题，但是如果使用多继承，会涉及到查找顺序（MRO）、重复调用（钻石继承）等种种问题。\n",
    "* MRO 就是类的方法解析顺序表, 其实也就是继承父类方法时的顺序表。"
   ]
  },
  {
   "cell_type": "code",
   "execution_count": 12,
   "metadata": {
    "collapsed": true
   },
   "outputs": [
    {
     "name": "stdout",
     "output_type": "stream",
     "text": [
      "Parent\n",
      "Child\n",
      "HelloWorld from Parent\n",
      "Child bar fuction\n",
      "I'm the parent.\n"
     ]
    }
   ],
   "source": [
    "#super()\n",
    "class FooParent(object):\n",
    "    def __init__(self):\n",
    "        self.parent = 'I\\'m the parent.'\n",
    "        print ('Parent')\n",
    "    \n",
    "    def bar(self,message):\n",
    "        print (\"%s from Parent\" % message)\n",
    "\n",
    "class FooChild(FooParent):\n",
    "    def __init__(self):\n",
    "        # super(FooChild,self) 首先找到 FooChild 的父类（就是类 FooParent），然后把类B的对象 FooChild 转换为类 FooParent 的对象\n",
    "        super(FooChild,self).__init__()    \n",
    "        print ('Child')\n",
    "        \n",
    "    def bar(self,message):\n",
    "        super(FooChild, self).bar(message)\n",
    "        print ('Child bar fuction')\n",
    "        print (self.parent)\n",
    "\n",
    "if __name__ == '__main__':\n",
    "    fooChild = FooChild()\n",
    "    fooChild.bar('HelloWorld')"
   ]
  },
  {
   "cell_type": "code",
   "execution_count": 1,
   "metadata": {
    "collapsed": true
   },
   "outputs": [
    {
     "name": "stdout",
     "output_type": "stream",
     "text": [
      "1x1=1\t\n",
      "2x1=2\t2x2=4\t\n",
      "3x1=3\t3x2=6\t3x3=9\t\n",
      "4x1=4\t4x2=8\t4x3=12\t4x4=16\t\n",
      "5x1=5\t5x2=10\t5x3=15\t5x4=20\t5x5=25\t\n",
      "6x1=6\t6x2=12\t6x3=18\t6x4=24\t6x5=30\t6x6=36\t\n",
      "7x1=7\t7x2=14\t7x3=21\t7x4=28\t7x5=35\t7x6=42\t7x7=49\t\n",
      "8x1=8\t8x2=16\t8x3=24\t8x4=32\t8x5=40\t8x6=48\t8x7=56\t8x8=64\t\n",
      "9x1=9\t9x2=18\t9x3=27\t9x4=36\t9x5=45\t9x6=54\t9x7=63\t9x8=72\t9x9=81\t\n"
     ]
    }
   ],
   "source": [
    "for i in range(1, 10):\n",
    "        for j in range(1, i+1):\n",
    "            print('{}x{}={}\\t'.format(i, j, i*j), end='')\n",
    "        print()"
   ]
  },
  {
   "cell_type": "code",
   "execution_count": 6,
   "metadata": {
    "collapsed": true
   },
   "outputs": [
    {
     "name": "stdout",
     "output_type": "stream",
     "text": [
      "21\n",
      "4\n"
     ]
    }
   ],
   "source": [
    "#eval()\n",
    "x = 7\n",
    "print(eval('3*x'))\n",
    "print (eval('pow(2,2)'))\n",
    "\n",
    "exec('print(\"Hello World\")')\n",
    "exec (\"\"\"for i in range(5):\n",
    "...     print (\"iter time: %d\" % i)\n",
    "... \"\"\")\n"
   ]
  },
  {
   "cell_type": "markdown",
   "metadata": {},
   "source": [
    "* getattr() 函数用于返回一个对象属性值。"
   ]
  },
  {
   "cell_type": "code",
   "execution_count": 11,
   "metadata": {
    "collapsed": true
   },
   "outputs": [],
   "source": [
    "#class A(object):\n",
    "#    bar=1\n",
    "    \n",
    "#a = A()\n",
    "#getattr(a, 'bar')        # 获取属性 bar 值\n",
    "#getattr(a, 'bar2')       # 属性 bar2 不存在，触发异常\n",
    "#getattr(a, 'bar2', 3)    # 属性 bar2 不存在，但设置了默认值"
   ]
  },
  {
   "cell_type": "code",
   "execution_count": 10,
   "metadata": {},
   "outputs": [
    {
     "name": "stdout",
     "output_type": "stream",
     "text": [
      "34\n"
     ]
    }
   ],
   "source": [
    "#注意执行的逻辑\n",
    "x = 10\n",
    "expr = \"\"\"\n",
    "z = 30\n",
    "sum = x + y + z\n",
    "print(sum)\n",
    "\"\"\"\n",
    "def func():\n",
    "    y = 20\n",
    "    #exec(expr)\n",
    "    #exec(expr, {'x': 1, 'y': 2})\n",
    "    exec(expr, {'x': 1, 'y': 2}, {'y': 3, 'z': 4})\n",
    "    \n",
    "func()"
   ]
  },
  {
   "cell_type": "code",
   "execution_count": 4,
   "metadata": {
    "collapsed": true
   },
   "outputs": [
    {
     "name": "stdout",
     "output_type": "stream",
     "text": [
      "最小值: 1\n",
      "最大值: 1000\n",
      "1\n",
      "2\n",
      "3\n",
      "4\n",
      "5\n",
      "6\n",
      "7\n",
      "8\n",
      "9\n",
      "153\n",
      "370\n",
      "371\n",
      "407\n"
     ]
    }
   ],
   "source": [
    "#如果一个n位正整数等于其各位数字的n次方之和,则称该数为阿姆斯特朗数\n",
    "#获取指定区间的阿姆斯特朗数\n",
    "# 获取用户输入数字\n",
    "lower = int(input(\"最小值: \"))\n",
    "upper = int(input(\"最大值: \"))\n",
    " \n",
    "for num in range(lower,upper + 1):\n",
    "   # 初始化 sum\n",
    "    sum = 0\n",
    "   # 指数\n",
    "    n = len(str(num))\n",
    " \n",
    "   # 检测\n",
    "    temp = num\n",
    "    while temp > 0:\n",
    "        digit = temp % 10\n",
    "        sum += digit ** n\n",
    "        temp //= 10\n",
    " \n",
    "    if num == sum:\n",
    "        print(num)"
   ]
  },
  {
   "cell_type": "code",
   "execution_count": 5,
   "metadata": {
    "collapsed": true
   },
   "outputs": [
    {
     "name": "stdout",
     "output_type": "stream",
     "text": [
      "请输入一个数字: 132\n",
      "132 不是阿姆斯特朗数\n"
     ]
    }
   ],
   "source": [
    "# Python 检测用户输入的数字是否为阿姆斯特朗数\n",
    " \n",
    "# 获取用户输入的数字\n",
    "num = int(input(\"请输入一个数字: \"))\n",
    " \n",
    "# 初始化变量 sum\n",
    "sum = 0\n",
    "# 指数\n",
    "n = len(str(num))\n",
    " \n",
    "# 检测\n",
    "temp = num\n",
    "while temp > 0:\n",
    "    digit = temp % 10\n",
    "    sum += digit ** n\n",
    "    temp //= 10\n",
    "# 输出结果\n",
    "if num == sum:\n",
    "    print(num,\"是阿姆斯特朗数\")\n",
    "else:\n",
    "    print(num,\"不是阿姆斯特朗数\")"
   ]
  },
  {
   "cell_type": "code",
   "execution_count": 11,
   "metadata": {
    "collapsed": true
   },
   "outputs": [],
   "source": [
    "#字符和ASCII码转换\n",
    "#ord() 一个字符\n",
    "#chr() 一个整数"
   ]
  },
  {
   "cell_type": "code",
   "execution_count": 15,
   "metadata": {
    "collapsed": true
   },
   "outputs": [
    {
     "name": "stdout",
     "output_type": "stream",
     "text": [
      "输入第一个数字: 1\n",
      "输入第二个数字: 2\n",
      "1 和 2 的最大公约数为 1\n"
     ]
    }
   ],
   "source": [
    "#最大公约数\n",
    "# 定义一个函数\n",
    "def hcf(x, y):\n",
    "    \"\"\"该函数返回两个数的最大公约数\"\"\"\n",
    " \n",
    "    # 获取最小值\n",
    "    if x > y:\n",
    "        smaller = y\n",
    "    else:\n",
    "        smaller = x\n",
    " \n",
    "    for i in range(1,smaller + 1):\n",
    "        if((x % i == 0) and (y % i == 0)):\n",
    "            hcf = i\n",
    " \n",
    "    return hcf\n",
    " \n",
    " \n",
    "# 用户输入两个数字\n",
    "num1 = int(input(\"输入第一个数字: \"))\n",
    "num2 = int(input(\"输入第二个数字: \"))\n",
    " \n",
    "print( num1,\"和\", num2,\"的最大公约数为\", hcf(num1, num2))"
   ]
  },
  {
   "cell_type": "code",
   "execution_count": 16,
   "metadata": {
    "collapsed": true
   },
   "outputs": [
    {
     "name": "stdout",
     "output_type": "stream",
     "text": [
      "输入第一个数字: 2\n",
      "输入第二个数字: 3 \n",
      "2 和 3 的最小公倍数为 6\n"
     ]
    }
   ],
   "source": [
    "#最小公培树\n",
    "# 定义函数\n",
    "def lcm(x, y):\n",
    " \n",
    "   #  获取最大的数\n",
    "    if x > y:\n",
    "        greater = x\n",
    "    else:\n",
    "        greater = y\n",
    " \n",
    "    while(True):\n",
    "        if((greater % x == 0) and (greater % y == 0)):\n",
    "            lcm = greater\n",
    "            break\n",
    "        greater += 1\n",
    " \n",
    "    return lcm\n",
    " \n",
    " \n",
    "# 获取用户输入\n",
    "num1 = int(input(\"输入第一个数字: \"))\n",
    "num2 = int(input(\"输入第二个数字: \"))\n",
    " \n",
    "print( num1,\"和\", num2,\"的最小公倍数为\", lcm(num1, num2))"
   ]
  },
  {
   "cell_type": "code",
   "execution_count": 17,
   "metadata": {
    "collapsed": true
   },
   "outputs": [
    {
     "name": "stdout",
     "output_type": "stream",
     "text": [
      "输入年份: 2017\n",
      "输入月份: 2\n",
      "   February 2017\n",
      "Mo Tu We Th Fr Sa Su\n",
      "       1  2  3  4  5\n",
      " 6  7  8  9 10 11 12\n",
      "13 14 15 16 17 18 19\n",
      "20 21 22 23 24 25 26\n",
      "27 28\n",
      "\n"
     ]
    }
   ],
   "source": [
    "#生成日历\n",
    "# 引入日历模块\n",
    "import calendar\n",
    "\n",
    "# 输入指定年月\n",
    "yy = int(input(\"输入年份: \"))\n",
    "mm = int(input(\"输入月份: \"))\n",
    "\n",
    "# 显示日历\n",
    "print(calendar.month(yy,mm))"
   ]
  },
  {
   "cell_type": "code",
   "execution_count": 18,
   "metadata": {
    "collapsed": true
   },
   "outputs": [
    {
     "name": "stdout",
     "output_type": "stream",
     "text": [
      "测试实例一\n",
      "False\n",
      "False\n",
      "False\n",
      "True\n",
      "False\n",
      "False\n",
      "False\n",
      "------------------------\n",
      "测试实例二\n",
      "True\n",
      "True\n",
      "False\n",
      "True\n",
      "False\n",
      "False\n",
      "False\n"
     ]
    }
   ],
   "source": [
    "#str判断string相关\n",
    "# 测试实例一\n",
    "print(\"测试实例一\")\n",
    "str = \"runoob.com\"\n",
    "print(str.isalnum()) # 判断所有字符都是数字或者字母\n",
    "print(str.isalpha()) # 判断所有字符都是字母\n",
    "print(str.isdigit()) # 判断所有字符都是数字\n",
    "print(str.islower()) # 判断所有字符都是小写\n",
    "print(str.isupper()) # 判断所有字符都是大写\n",
    "print(str.istitle()) # 判断所有单词都是首字母大写，像标题\n",
    "print(str.isspace()) # 判断所有字符都是空白字符、\\t、\\n、\\r\n",
    "\n",
    "print(\"------------------------\")\n",
    "\n",
    "# 测试实例二\n",
    "print(\"测试实例二\")\n",
    "str = \"runoob\"\n",
    "print(str.isalnum()) \n",
    "print(str.isalpha()) \n",
    "print(str.isdigit()) \n",
    "print(str.islower()) \n",
    "print(str.isupper()) \n",
    "print(str.istitle()) \n",
    "print(str.isspace()) "
   ]
  },
  {
   "cell_type": "code",
   "execution_count": 19,
   "metadata": {
    "collapsed": true
   },
   "outputs": [
    {
     "name": "stdout",
     "output_type": "stream",
     "text": [
      "2017-10-21\n"
     ]
    }
   ],
   "source": [
    "#计算日期差\n",
    "# 引入 datetime 模块\n",
    "import datetime\n",
    "def getYesterday(): \n",
    "    today=datetime.date.today() \n",
    "    oneday=datetime.timedelta(days=1) \n",
    "    yesterday=today-oneday  \n",
    "    return yesterday\n",
    " \n",
    "# 输出\n",
    "print(getYesterday())"
   ]
  },
  {
   "cell_type": "code",
   "execution_count": 20,
   "metadata": {
    "collapsed": true
   },
   "outputs": [
    {
     "name": "stdout",
     "output_type": "stream",
     "text": [
      "2017-10-22 16:54:47\n",
      "Sun Oct 22 16:54:47 2017\n",
      "1459175064.0\n"
     ]
    }
   ],
   "source": [
    "#格式化如期输出格式\n",
    "import time\n",
    "\n",
    "# 格式化成2016-03-20 11:45:39形式\n",
    "print (time.strftime(\"%Y-%m-%d %H:%M:%S\", time.localtime()))\n",
    "\n",
    "# 格式化成Sat Mar 28 22:24:24 2016形式\n",
    "print (time.strftime(\"%a %b %d %H:%M:%S %Y\", time.localtime()))\n",
    "  \n",
    "# 将格式字符串转换为时间戳\n",
    "a = \"Sat Mar 28 22:24:24 2016\"\n",
    "print (time.mktime(time.strptime(a,\"%a %b %d %H:%M:%S %Y\")))\n",
    "\n",
    "#import time\n",
    "#help(time.strftime)\n",
    "#help(time.strptime)"
   ]
  }
 ],
 "metadata": {
  "kernelspec": {
   "display_name": "Python 3",
   "language": "python",
   "name": "python3"
  },
  "language_info": {
   "codemirror_mode": {
    "name": "ipython",
    "version": 3
   },
   "file_extension": ".py",
   "mimetype": "text/x-python",
   "name": "python",
   "nbconvert_exporter": "python",
   "pygments_lexer": "ipython3",
   "version": "3.6.2"
  }
 },
 "nbformat": 4,
 "nbformat_minor": 2
}
