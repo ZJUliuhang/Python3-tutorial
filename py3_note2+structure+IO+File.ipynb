{
 "cells": [
  {
   "cell_type": "markdown",
   "metadata": {},
   "source": [
    "## py3 的数据结构 模块和输入输出"
   ]
  },
  {
   "cell_type": "markdown",
   "metadata": {},
   "source": [
    "## 1、数据结构\n"
   ]
  },
  {
   "cell_type": "markdown",
   "metadata": {},
   "source": [
    "***"
   ]
  },
  {
   "attachments": {},
   "cell_type": "markdown",
   "metadata": {},
   "source": [
    "* 列表的使用方法 示例如下\n",
    "![列表用法](./photo/列表用法.png)"
   ]
  },
  {
   "cell_type": "code",
   "execution_count": 1,
   "metadata": {},
   "outputs": [
    {
     "name": "stdout",
     "output_type": "stream",
     "text": [
      "2 1 0\n",
      "[66.25, 333, -1, 333, 1, 1234.5, 333]\n",
      "1\n",
      "[66.25, -1, 333, 1, 1234.5, 333]\n",
      "[333, 1234.5, 1, 333, -1, 66.25]\n",
      "[-1, 1, 66.25, 333, 333, 1234.5]\n",
      "1234.5\n",
      "[-1, 1, 66.25, 333, 333]\n",
      "333\n",
      "333\n",
      "66.25\n",
      "1\n",
      "-1\n"
     ]
    }
   ],
   "source": [
    "a = [66.25, 333, 333, 1, 1234.5]\n",
    "print(a.count(333), a.count(66.25), a.count('x'))\n",
    "a.insert(2, -1)\n",
    "a.append(333)\n",
    "print(a)\n",
    "print (a.index(333))\n",
    "a.remove(333)\n",
    "print(a)       \n",
    "a.reverse()\n",
    "print(a)\n",
    "a.sort()\n",
    "print(a)\n",
    "\n",
    "print (a.pop()) #pop 函数可以将列表当做堆栈使用，后进先出\n",
    "print(a)\n",
    "print (a.pop());print (a.pop());print (a.pop());print (a.pop());print (a.pop())"
   ]
  },
  {
   "cell_type": "markdown",
   "metadata": {},
   "source": [
    "* 将列表当做堆栈 队列 如上"
   ]
  },
  {
   "cell_type": "code",
   "execution_count": 2,
   "metadata": {},
   "outputs": [
    {
     "name": "stdout",
     "output_type": "stream",
     "text": [
      "Eric\n",
      "John\n"
     ]
    },
    {
     "data": {
      "text/plain": [
       "deque(['Michael', 'Terry', 'Graham'])"
      ]
     },
     "execution_count": 2,
     "metadata": {},
     "output_type": "execute_result"
    }
   ],
   "source": [
    "#类似队列1\n",
    "from collections import deque\n",
    "queue = deque([\"Eric\", \"John\", \"Michael\"])\n",
    "queue.append(\"Terry\")           # Terry arrives\n",
    "queue.append(\"Graham\")          # Graham arrives\n",
    "print(queue.popleft())                 # The first to arrive now leaves\n",
    "#类似队列2\n",
    "print(queue.popleft())                 # The second to arrive now leaves\n",
    "queue"
   ]
  },
  {
   "cell_type": "markdown",
   "metadata": {},
   "source": [
    "* 列表推导式创建列表"
   ]
  },
  {
   "cell_type": "code",
   "execution_count": 3,
   "metadata": {},
   "outputs": [
    {
     "name": "stdout",
     "output_type": "stream",
     "text": [
      "[[2, 4], [4, 16], [6, 36]] \n",
      " ['banana', 'loganberry', 'passion fruit'] \n",
      " [12, 18] \n",
      " [] \n",
      " [8, 6, -18, 16, 12, -36, 24, 18, -54] \n",
      " ['3.1', '3.14', '3.142', '3.1416', '3.14159']\n"
     ]
    }
   ],
   "source": [
    "vec = [2, 4, 6]\n",
    "a=[[x, x**2] for x in vec]\n",
    "c=[3*x for x in vec if x > 3]\n",
    "d=[3*x for x in vec if x < 2]\n",
    "\n",
    "vec2 = [4, 3, -9]\n",
    "e=[x*y for x in vec for y in vec2]\n",
    "\n",
    "f=[str(round(355/113, i)) for i in range(1, 6)]\n",
    "\n",
    "freshfruit = ['  banana', '  loganberry ', 'passion fruit  ']\n",
    "b=[weapon.strip() for weapon in freshfruit]\n",
    "#[]不能少，strip 是去掉字符串末尾和开头的空格\n",
    "\n",
    "\n",
    "print(a,'\\n',b,'\\n',c,'\\n',d,'\\n',e,'\\n',f)"
   ]
  },
  {
   "cell_type": "markdown",
   "metadata": {},
   "source": [
    "* del 语句在list中的应用"
   ]
  },
  {
   "cell_type": "code",
   "execution_count": 4,
   "metadata": {},
   "outputs": [
    {
     "name": "stdout",
     "output_type": "stream",
     "text": [
      "[1, 66.25, 333, 333, 1234.5]\n",
      "[1, 66.25, 1234.5]\n",
      "[]\n"
     ]
    }
   ],
   "source": [
    "a = [-1, 1, 66.25, 333, 333, 1234.5]\n",
    "del a[0];print(a);del a[2:4];print(a);del a[:];print(a)"
   ]
  },
  {
   "cell_type": "markdown",
   "metadata": {},
   "source": [
    "* 字典构建 遍历"
   ]
  },
  {
   "cell_type": "code",
   "execution_count": 5,
   "metadata": {},
   "outputs": [
    {
     "name": "stdout",
     "output_type": "stream",
     "text": [
      "['jack', 'guido'] \n",
      " ['guido', 'jack'] \n",
      " {'sape': 4139, 'guido': 4127, 'jack': 4098} \n",
      " {2: 4, 4: 16, 6: 36} \n",
      " {'sape': 4139, 'guido': 4127, 'jack': 4098}\n"
     ]
    }
   ],
   "source": [
    "tel = {'jack': 4098, 'sape': 4139}\n",
    "tel['guido'] = 4127#插入对象\n",
    "del tel['sape']#删除对象\n",
    "a=list(tel.keys())#返回字典建的列表\n",
    "b=sorted(tel.keys())#键值排序\n",
    "\n",
    "c= dict([('sape', 4139), ('guido', 4127), ('jack', 4098)])#list 构建\n",
    "d={x: x**2 for x in (2, 4, 6)}#推导构建\n",
    "e=dict(sape=4139, guido=4127, jack=4098)\n",
    "\n",
    "print(a,'\\n',b,'\\n',c,'\\n',d,'\\n',e)"
   ]
  },
  {
   "cell_type": "code",
   "execution_count": 6,
   "metadata": {},
   "outputs": [
    {
     "name": "stdout",
     "output_type": "stream",
     "text": [
      "gallahad the pure\n",
      "robin the brave\n"
     ]
    }
   ],
   "source": [
    "#items() 遍历序列\n",
    "knights = {'gallahad': 'the pure', 'robin': 'the brave'}\n",
    "for k, v in knights.items():\n",
    "    print(k,v)"
   ]
  },
  {
   "cell_type": "code",
   "execution_count": 7,
   "metadata": {},
   "outputs": [
    {
     "name": "stdout",
     "output_type": "stream",
     "text": [
      "0 tic\n",
      "1 tac\n",
      "2 toe\n"
     ]
    }
   ],
   "source": [
    "#enumerate() 函数自动生成键值，遍历序列\n",
    "for i, v in enumerate(['tic', 'tac', 'toe']):\n",
    "    print(i, v)"
   ]
  },
  {
   "cell_type": "code",
   "execution_count": 8,
   "metadata": {},
   "outputs": [
    {
     "name": "stdout",
     "output_type": "stream",
     "text": [
      "dict_keys(['Name', 'Age', 'Class'])\n",
      "<class 'dict_keys'>\n"
     ]
    }
   ],
   "source": [
    "#shunxuyunxing\n",
    "dict_val = {'Name': 'Zara', 'Age': 7, 'Class': 'First'}\n",
    "print(dict_val.keys())\n",
    "print(type(dict_val.keys()))"
   ]
  },
  {
   "cell_type": "code",
   "execution_count": 9,
   "metadata": {},
   "outputs": [
    {
     "name": "stdout",
     "output_type": "stream",
     "text": [
      "Name--<class 'str'>\n",
      "Age--<class 'str'>\n",
      "Class--<class 'str'>\n"
     ]
    }
   ],
   "source": [
    "for key in dict_val.keys():\n",
    "    print('{}--{}'.format(key, type(key)))"
   ]
  },
  {
   "cell_type": "code",
   "execution_count": 10,
   "metadata": {},
   "outputs": [
    {
     "name": "stdout",
     "output_type": "stream",
     "text": [
      "dict_values(['Zara', 7, 'First'])\n",
      "<class 'dict_values'>\n"
     ]
    }
   ],
   "source": [
    "print(dict_val.values())\n",
    "print(type(dict_val.values()))"
   ]
  },
  {
   "cell_type": "code",
   "execution_count": 11,
   "metadata": {},
   "outputs": [
    {
     "name": "stdout",
     "output_type": "stream",
     "text": [
      "Zara--<class 'str'>\n",
      "7--<class 'int'>\n",
      "First--<class 'str'>\n"
     ]
    }
   ],
   "source": [
    "for value in dict_val.values():\n",
    "    print('{}--{}'.format(value, type(value)))"
   ]
  },
  {
   "cell_type": "code",
   "execution_count": 12,
   "metadata": {},
   "outputs": [
    {
     "name": "stdout",
     "output_type": "stream",
     "text": [
      "dict_items([('Name', 'Zara'), ('Age', 7), ('Class', 'First')])\n",
      "<class 'dict_items'>\n"
     ]
    }
   ],
   "source": [
    "print(dict_val.items())\n",
    "print(type(dict_val.items()))"
   ]
  },
  {
   "cell_type": "code",
   "execution_count": 13,
   "metadata": {},
   "outputs": [
    {
     "name": "stdout",
     "output_type": "stream",
     "text": [
      "('Name', 'Zara')--<class 'tuple'>\n",
      "('Age', 7)--<class 'tuple'>\n",
      "('Class', 'First')--<class 'tuple'>\n"
     ]
    }
   ],
   "source": [
    "for item in dict_val.items():\n",
    "    print('{}--{}'.format(item, type(item)))"
   ]
  },
  {
   "cell_type": "code",
   "execution_count": 14,
   "metadata": {},
   "outputs": [
    {
     "name": "stdout",
     "output_type": "stream",
     "text": [
      "What is your name?  It is lancelot.\n",
      "What is your quest?  It is the holy grail.\n",
      "What is your favorite color?  It is blue.\n"
     ]
    }
   ],
   "source": [
    "questions = ['name', 'quest', 'favorite color']\n",
    "answers = ['lancelot', 'the holy grail', 'blue']\n",
    "a=zip(questions, answers) #zip的用法？\n",
    "for q, a in a:\n",
    "    print('What is your {0}?  It is {1}.'.format(q, a))#格式化输出\n",
    "    "
   ]
  },
  {
   "cell_type": "code",
   "execution_count": 15,
   "metadata": {},
   "outputs": [
    {
     "name": "stdout",
     "output_type": "stream",
     "text": [
      "9\n",
      "7\n",
      "5\n",
      "3\n",
      "1\n",
      "apple\n",
      "banana\n",
      "orange\n",
      "pear\n"
     ]
    }
   ],
   "source": [
    "#reversed 和 sorted是可以直接用的函数，sort 和 reverse是要用list进行调用的函数\n",
    "for i in reversed(range(1, 10, 2)):\n",
    "    print (i)\n",
    "    \n",
    "basket = ['apple', 'orange', 'apple', 'pear', 'orange', 'banana']\n",
    "for f in sorted(set(basket)):\n",
    "    print(f)"
   ]
  },
  {
   "cell_type": "markdown",
   "metadata": {},
   "source": [
    "## 2、模块"
   ]
  },
  {
   "cell_type": "markdown",
   "metadata": {},
   "source": [
    "***\n",
    "想使用 Python 源文件，只需在另一个源文件里执行 import 语句;\n",
    "如果你打算经常使用一个函数，你可以把它赋给一个本地的名称,比如 import numpy as np; m=np.math\n",
    "\n",
    "假设定义了fibo.py\n",
    "* from fibo import fib, fib2  #导入部分对象\n",
    "* import fibo #导入全部对象\n",
    "* from fibo import *  #导入全部对象，但是那些由单一下划线（_）开头的名字不在此例\n",
    "\n",
    "一个模块被另一个程序第一次引入时，其主程序将运行。如果我们想在模块被引入时，模块中的某一程序块不执行，我们可以用\\__name\\__属性来使该程序块仅在该模块自身运行时执行。\n",
    "\n",
    "说明： 每个模块都有一个\\__name\\__属性，当其值是'\\__main\\__'时，表明该模块自身在运行，否则是被引入。"
   ]
  },
  {
   "cell_type": "markdown",
   "metadata": {},
   "source": [
    "* dir()函数 内置的函数 dir() 可以找到模块内定义的所有名称。以一个字符串列表的形式返回\n",
    "        如果没有给定参数，那么 dir() 函数会罗列出当前定义的所有名称:"
   ]
  },
  {
   "cell_type": "code",
   "execution_count": 16,
   "metadata": {},
   "outputs": [
    {
     "name": "stdout",
     "output_type": "stream",
     "text": [
      "['__doc__', '__loader__', '__name__', '__package__', '__spec__', 'acos', 'acosh', 'asin', 'asinh', 'atan', 'atan2', 'atanh', 'ceil', 'copysign', 'cos', 'cosh', 'degrees', 'e', 'erf', 'erfc', 'exp', 'expm1', 'fabs', 'factorial', 'floor', 'fmod', 'frexp', 'fsum', 'gamma', 'gcd', 'hypot', 'inf', 'isclose', 'isfinite', 'isinf', 'isnan', 'ldexp', 'lgamma', 'log', 'log10', 'log1p', 'log2', 'modf', 'nan', 'pi', 'pow', 'radians', 'sin', 'sinh', 'sqrt', 'tan', 'tanh', 'tau', 'trunc']\n"
     ]
    }
   ],
   "source": [
    "import math\n",
    "print (dir(math))"
   ]
  },
  {
   "cell_type": "markdown",
   "metadata": {},
   "source": [
    "* 标准模块"
   ]
  },
  {
   "cell_type": "markdown",
   "metadata": {},
   "source": [
    "* 包\n",
    "比如一个模块的名称是 A.B， 那么他表示一个包 A中的子模块 B \n",
    "目录只有包含一个叫做 __init__.py 的文件才会被认作是一个包，主要是为了避免一些滥俗的名字（比如叫做 string）不小心的影响搜索路径中的有效模块\n",
    "\n",
    "注意当使用from package import item这种形式的时候，对应的item既可以是包里面的子模块（子包），或者包里面定义的其他名称，比如函数，类或者变量\n",
    "\n",
    "如果使用形如import item.subitem.subsubitem这种导入形式，除了最后一项，都必须是包，而最后一项则可以是模块或者是包，但是不可以是类，函数或者变量的名字。"
   ]
  },
  {
   "cell_type": "markdown",
   "metadata": {},
   "source": [
    "## 3、输入输出\n"
   ]
  },
  {
   "cell_type": "markdown",
   "metadata": {},
   "source": [
    "* 输出格式美化"
   ]
  },
  {
   "cell_type": "markdown",
   "metadata": {},
   "source": [
    "Python两种输出值的方式: 表达式语句和 print() 函数，第三种方式是使用文件对象的 write() 方法，标准输出文件可以用 sys.stdout 引用，如果你希望输出的形式更加多样，可以使用 str.format() 函数来格式化输出值，如果你希望将输出的值转成字符串，可以使用 repr() 或 str() 函数来实现。str()： 函数返回一个用户易读的表达形式。repr()： 产生一个解释器易读的表达形式。"
   ]
  },
  {
   "cell_type": "code",
   "execution_count": 17,
   "metadata": {},
   "outputs": [
    {
     "name": "stdout",
     "output_type": "stream",
     "text": [
      "Hello, Runoob\n",
      "Hello, Runoob\n",
      "hello, runoob\n",
      "\n",
      "'hello, runoob\\n'\n"
     ]
    },
    {
     "data": {
      "text/plain": [
       "\"(1.0, 20, ('Google', 'Runoob'))\""
      ]
     },
     "execution_count": 17,
     "metadata": {},
     "output_type": "execute_result"
    }
   ],
   "source": [
    "s = 'Hello, Runoob'\n",
    "print (str(s))\n",
    "s\n",
    "print(s)\n",
    "str(1/7)\n",
    "repr(s) #注意引号\n",
    "\n",
    "#  repr() 函数可以转义字符串中的特殊字符\n",
    "hello = 'hello, runoob\\n'\n",
    "hellos=repr(hello)\n",
    "print(hello)\n",
    "print(hellos)\n",
    "\n",
    "# repr() 的参数可以是 Python 的任何对象\n",
    "repr((1.00, 20, ('Google', 'Runoob')))"
   ]
  },
  {
   "cell_type": "code",
   "execution_count": 18,
   "metadata": {},
   "outputs": [
    {
     "name": "stdout",
     "output_type": "stream",
     "text": [
      " 1   1    1\n",
      " 2   4    8\n",
      " 3   9   27\n",
      " 4  16   64\n",
      " 5  25  125\n",
      " 6  36  216\n",
      " 7  49  343\n",
      " 8  64  512\n",
      " 9  81  729\n",
      "10 100 1000\n"
     ]
    }
   ],
   "source": [
    "for x in range(1, 11):\n",
    "    print(repr(x).rjust(2), repr(x*x).rjust(3), end=' ')\n",
    "    #rjust(width[,fillchar]) ljust(),center()\n",
    "    # 注意前一行 'end' 的使用\n",
    "    print(repr(x*x*x).rjust(4))"
   ]
  },
  {
   "cell_type": "code",
   "execution_count": 19,
   "metadata": {},
   "outputs": [
    {
     "name": "stdout",
     "output_type": "stream",
     "text": [
      " 1   1    1\n",
      " 2   4    8\n",
      " 3   9   27\n",
      " 4  16   64\n",
      " 5  25  125\n",
      " 6  36  216\n",
      " 7  49  343\n",
      " 8  64  512\n",
      " 9  81  729\n",
      "10 100 1000\n"
     ]
    }
   ],
   "source": [
    "for x in range(1, 11):\n",
    "    print('{0:2d} {1:3d} {2:4d}'.format(x, x*x, x*x*x))#格式化输出"
   ]
  },
  {
   "cell_type": "code",
   "execution_count": 20,
   "metadata": {},
   "outputs": [
    {
     "data": {
      "text/plain": [
       "'00012'"
      ]
     },
     "execution_count": 20,
     "metadata": {},
     "output_type": "execute_result"
    }
   ],
   "source": [
    "#zfill()\n",
    "'12'.zfill(5)#zfill() 在数字左边填0 至规定位数"
   ]
  },
  {
   "cell_type": "code",
   "execution_count": 21,
   "metadata": {},
   "outputs": [
    {
     "data": {
      "text/plain": [
       "'3.14159265359'"
      ]
     },
     "execution_count": 21,
     "metadata": {},
     "output_type": "execute_result"
    }
   ],
   "source": [
    "'3.14159265359'.zfill(5)"
   ]
  },
  {
   "cell_type": "code",
   "execution_count": 22,
   "metadata": {},
   "outputs": [
    {
     "data": {
      "text/plain": [
       "'-003.14'"
      ]
     },
     "execution_count": 22,
     "metadata": {},
     "output_type": "execute_result"
    }
   ],
   "source": [
    "'-3.14'.zfill(7)"
   ]
  },
  {
   "cell_type": "code",
   "execution_count": 23,
   "metadata": {},
   "outputs": [
    {
     "name": "stdout",
     "output_type": "stream",
     "text": [
      "站点列表 Google, Runoob, 和 Taobao。\n"
     ]
    }
   ],
   "source": [
    "print('站点列表 {0}, {1}, 和 {other}。'.format('Google', 'Runoob',\n",
    "                                         other='Taobao'))#断开与否不影响"
   ]
  },
  {
   "cell_type": "markdown",
   "metadata": {},
   "source": [
    "'!a' (使用 ascii()), '!s' (使用 str()) 和 '!r' (使用 repr()) 可以用于在格式化某个值之前对其进行转化:"
   ]
  },
  {
   "cell_type": "code",
   "execution_count": 24,
   "metadata": {},
   "outputs": [
    {
     "name": "stdout",
     "output_type": "stream",
     "text": [
      "常量 PI 的值近似为： 3.141592653589793。\n",
      "常量 PI 的值近似为： 3.141592653589793。\n",
      "常量 PI 的值近似为 3.142。\n"
     ]
    }
   ],
   "source": [
    "#'!a' (使用 ascii()), '!s' (使用 str()) 和 '!r' (使用 repr()) \n",
    "#可以用于在格式化某个值之前对其进行转化:\n",
    "import math\n",
    "print('常量 PI 的值近似为： {}。'.format(math.pi))\n",
    "print('常量 PI 的值近似为： {!r}。'.format(math.pi))\n",
    "\n",
    "print('常量 PI 的值近似为 {0:.3f}。'.format(math.pi))#精度设置"
   ]
  },
  {
   "cell_type": "markdown",
   "metadata": {},
   "source": [
    "在 ':' 后传入一个整数, 可以保证该域至少有这么多的宽度。 用于美化表格时很有用"
   ]
  },
  {
   "cell_type": "code",
   "execution_count": 25,
   "metadata": {},
   "outputs": [
    {
     "name": "stdout",
     "output_type": "stream",
     "text": [
      "Google     ==>          1\n",
      "Runoob     ==>          2\n",
      "Taobao     ==>          3\n"
     ]
    }
   ],
   "source": [
    "table = {'Google': 1, 'Runoob': 2, 'Taobao': 3}\n",
    "for name, number in table.items():\n",
    "    print('{0:10} ==> {1:10d}'.format(name, number))#d 表示是整数，也可以不加，不影响输出"
   ]
  },
  {
   "cell_type": "markdown",
   "metadata": {},
   "source": [
    "如果你有一个很长的格式化字符串, 而你不想将它们分开, 那么在格式化时通过变量名而非位置会是很好的事情。\n",
    "最简单的就是传入一个字典, 然后使用方括号 '[]' 来访问键值 :"
   ]
  },
  {
   "cell_type": "code",
   "execution_count": 26,
   "metadata": {},
   "outputs": [
    {
     "name": "stdout",
     "output_type": "stream",
     "text": [
      "Runoob: 2; Google: 1; Taobao: 3\n"
     ]
    }
   ],
   "source": [
    "table = {'Google': 1, 'Runoob': 2, 'Taobao': 3}\n",
    "#注意下面的0 是索引值，format中只有一个对象，所以只能是0\n",
    "print('Runoob: {0[Runoob]:d}; Google: {0[Google]:d}; Taobao: {0[Taobao]:d}'.format(table))"
   ]
  },
  {
   "cell_type": "markdown",
   "metadata": {},
   "source": [
    "**也可以通过在 table 变量前使用 '\\*\\*' 来实现相同的功能：**"
   ]
  },
  {
   "cell_type": "code",
   "execution_count": 27,
   "metadata": {},
   "outputs": [
    {
     "name": "stdout",
     "output_type": "stream",
     "text": [
      "Runoob: 2; Google: 1; Taobao: 3\n"
     ]
    }
   ],
   "source": [
    "table = {'Google': 1, 'Runoob': 2, 'Taobao': 3}\n",
    "print('Runoob: {Runoob:d}; Google: {Google:d}; Taobao: {Taobao:d}'.format(**table))"
   ]
  },
  {
   "cell_type": "code",
   "execution_count": 28,
   "metadata": {},
   "outputs": [
    {
     "name": "stdout",
     "output_type": "stream",
     "text": [
      "常量 PI 的值近似为：      3.14。\n"
     ]
    }
   ],
   "source": [
    "#旧式字符串格式化 %\n",
    "import math\n",
    "print('常量 PI 的值近似为：%10.2f。' % math.pi)"
   ]
  },
  {
   "cell_type": "markdown",
   "metadata": {},
   "source": [
    "* 读取键盘的输入"
   ]
  },
  {
   "cell_type": "code",
   "execution_count": 29,
   "metadata": {},
   "outputs": [
    {
     "name": "stdout",
     "output_type": "stream",
     "text": [
      "请输入：\n",
      "你输入的内容是:  \n"
     ]
    }
   ],
   "source": [
    "#input 可以接受字符串\n",
    "#input 可以接收一个Python表达式作为输入，并将运算结果返回。\n",
    "str = input(\"请输入：\");\n",
    "print (\"你输入的内容是: \", str)"
   ]
  },
  {
   "cell_type": "markdown",
   "metadata": {},
   "source": [
    "* pickle 模块 python的pickle模块实现了基本的数据序列和反序列化\n",
    "* 通过pickle模块的序列化操作我们能够将程序中运行的对象信息保存到文件中去，永久存储\n",
    "* 通过pickle模块的反序列化操作，我们能够从文件中创建上一次程序保存的对象。"
   ]
  },
  {
   "cell_type": "code",
   "execution_count": 30,
   "metadata": {
    "collapsed": true
   },
   "outputs": [],
   "source": [
    "#pickle.dump(obj, file, [,protocol]) file: 类文件对象，有read()和readline()接口。\n",
    "import pickle\n",
    "\n",
    "# 使用pickle模块将数据对象保存到文件\n",
    "data1 = {'a': [1, 2.0, 3, 4+6j],\n",
    "         'b': ('string', u'Unicode string'),\n",
    "         'c': None}\n",
    "\n",
    "selfref_list = [1, 2, 3]\n",
    "selfref_list.append(selfref_list)\n",
    "\n",
    "output = open('data.pkl', 'wb')\n",
    "\n",
    "# Pickle dictionary using protocol 0.\n",
    "pickle.dump(data1, output)\n",
    "\n",
    "# Pickle the list using the highest protocol available.\n",
    "pickle.dump(selfref_list, output, -1)\n",
    "\n",
    "output.close()"
   ]
  },
  {
   "cell_type": "code",
   "execution_count": 31,
   "metadata": {},
   "outputs": [
    {
     "name": "stdout",
     "output_type": "stream",
     "text": [
      "{'a': [1, 2.0, 3, (4+6j)], 'b': ('string', 'Unicode string'), 'c': None}\n",
      "[1, 2, 3, <Recursion on list with id=1743718328328>]\n"
     ]
    }
   ],
   "source": [
    "import pprint, pickle\n",
    "\n",
    "#使用pickle模块从文件中重构python对象\n",
    "pkl_file = open('data.pkl', 'rb')\n",
    "\n",
    "data1 = pickle.load(pkl_file)\n",
    "pprint.pprint(data1) #单独一个print也是可以的\n",
    "\n",
    "data2 = pickle.load(pkl_file)\n",
    "pprint.pprint(data2)\n",
    "\n",
    "pkl_file.close()"
   ]
  },
  {
   "cell_type": "markdown",
   "metadata": {},
   "source": [
    "## 4、文件"
   ]
  },
  {
   "attachments": {
    "%E6%89%93%E5%BC%80%E6%96%87%E4%BB%B6%E6%A8%A1%E5%BC%8F.png": {
     "image/png": "[encoded data removed]"
    }
   },
   "cell_type": "markdown",
   "metadata": {
    "collapsed": true
   },
   "source": [
    "* 读写文件\n",
    "* r+ 的指针好像在文本最后，图片中有误\n",
    "![%E6%89%93%E5%BC%80%E6%96%87%E4%BB%B6%E6%A8%A1%E5%BC%8F.png](attachment:%E6%89%93%E5%BC%80%E6%96%87%E4%BB%B6%E6%A8%A1%E5%BC%8F.png)\n"
   ]
  },
  {
   "cell_type": "markdown",
   "metadata": {},
   "source": [
    "* file 文件方法（相关操作函数）"
   ]
  },
  {
   "cell_type": "markdown",
   "metadata": {},
   "source": [
    "1 2 3 4 无参数\n",
    "* flush() 方法是用来刷新缓冲区的，即将缓冲区中的数据立刻写入文件，同时清空缓冲区，不需要是被动的等待输出缓冲区写入。一般情况下，文件关闭后会自动刷新缓冲区，但有时你需要在关闭前刷新它，这时就可以使用 flush() 方法。\n",
    "* fileno() 方法返回一个整型的文件描述符(file descriptor FD 整型)，可用于底层操作系统的 I/O 操作。\n",
    "* Python 3 中的 File 对象不支持 next() 方法\n",
    "* read() 方法用于从文件读取指定的**字节数**，如果未给定或为负则读取所有。\n",
    "* readline() 如果指定了一个非负数的参数，则返回指定大小的字节数，包括 \"\\n\" 字符\n",
    "* readlines() 方法用于读取所有行(直到结束符 EOF)并返回**列表**，该列表可以由 Python 的 for... in ... 结构进行处理。 如果碰到结束符 EOF 则返回空字符串。一般不设置参数\n",
    "* truncate([size]) 方法用于从文件的首行首字符开始截断，截断文件为 size 个字符，无 size 表示从当前位置截断；截断之后 V 后面的所有字符被删除，其中 Widnows 系统下的换行代表2个字符大小。\n",
    "* writelines([str]) 方法用于向文件中写入一序列的字符串。**该方法没有返回值。**\n"
   ]
  },
  {
   "attachments": {},
   "cell_type": "markdown",
   "metadata": {},
   "source": [
    "![FILE文件方法](./photo/FILE文件方法.png)"
   ]
  },
  {
   "cell_type": "code",
   "execution_count": 32,
   "metadata": {},
   "outputs": [
    {
     "name": "stdout",
     "output_type": "stream",
     "text": [
      "30\n",
      "77\n"
     ]
    }
   ],
   "source": [
    "#open(filename, mode)\n",
    "#filename 变量是一个包含了你要访问的文件名称的字符串值，mode决定了打开文件的模式\n",
    "# 打开一个文件，创建文件对象f\n",
    "f = open(\"foo.txt\", \"w\")#文件的路径问题回头要注意。默认为和运行的路径为同一路径\n",
    "\n",
    "num=f.write( \"Python3 是一个非常好的语言。\\n是的，的确非常好!!\\n\" )\n",
    "#f.write（string），将 string 写入到文件中, 然后返回写入的字符数\n",
    "#如果不是string，要用str()进行转换\n",
    "print (num)\n",
    "f = open(\"foo.txt\", \"a\")\n",
    "\n",
    "f.write( \"\\n \\t 追加写入\\n测试成功!!\\n\" )\n",
    "#返回文件对象当前所处的位置, 它是从文件开头开始算起的字节数。\n",
    "print (f.tell())\n",
    "#返回文件的当前位置\n",
    "# 关闭打开的文件\n",
    "f.close()"
   ]
  },
  {
   "cell_type": "markdown",
   "metadata": {},
   "source": [
    "* 文件对象函数"
   ]
  },
  {
   "cell_type": "markdown",
   "metadata": {},
   "source": [
    ">为了读取一个文件的内容，调用 f.read(size), 这将读取一定数目的数据, 然后作为**字符串或字节对象**返回，size 是一个可选的数字类型的参数。 当 size 被忽略了或者为负, 那么该文件的所有内容都将被读取并且返回。\n",
    "\n",
    "\n"
   ]
  },
  {
   "cell_type": "code",
   "execution_count": 33,
   "metadata": {},
   "outputs": [
    {
     "name": "stdout",
     "output_type": "stream",
     "text": [
      "Python3 是一个非常好的语言。\n",
      "是的，的确非常好!!\n",
      "\n",
      " \t 追加写入\n",
      "测试成功!!\n",
      "\n"
     ]
    }
   ],
   "source": [
    "#上面已经创建f\n",
    "f = open(\"foo.txt\", \"r\")\n",
    "str = f.read()\n",
    "print(str)\n",
    "# 关闭打开的文件\n",
    "f.close()"
   ]
  },
  {
   "cell_type": "markdown",
   "metadata": {},
   "source": [
    ">f.readline() 会从文件中读取单独的一行。换行符为 '\\n'。f.readline() 如果返回一个空字符串, 说明已经已经读取到最后一行。"
   ]
  },
  {
   "cell_type": "code",
   "execution_count": 34,
   "metadata": {},
   "outputs": [
    {
     "name": "stdout",
     "output_type": "stream",
     "text": [
      "Python3 是一\n"
     ]
    }
   ],
   "source": [
    "#上面已经创建f\n",
    "f = open(\"foo.txt\", \"r\")\n",
    "qq = f.readline(10)#括号内加入数字后，可以返回前几个字符，字符串中汉字也是一个字符\n",
    "print(qq)\n",
    "# 关闭打开的文件\n",
    "f.close()"
   ]
  },
  {
   "cell_type": "markdown",
   "metadata": {},
   "source": [
    ">如果要改变文件当前的位置, 可以使用 f.seek(offset, from_what) 函数。\n",
    ">from_what 的值, 如果是 0(默认值) 表示开头, 如果是 1 表示当前位置, 2 表示文件的结尾\n",
    ">seek(x,0) ： 从起始位置即文件首行首字符开始移动 x 个字符\n",
    ">seek(x,1) ： 表示从当前位置往后移动x个字符\n",
    ">seek(-x,2)：表示从文件的结尾往前移动x个字符"
   ]
  },
  {
   "cell_type": "code",
   "execution_count": 35,
   "metadata": {},
   "outputs": [
    {
     "name": "stdout",
     "output_type": "stream",
     "text": [
      "b'5'\n",
      "b'd'\n"
     ]
    }
   ],
   "source": [
    "d=open('fseek.txt','rb+')\n",
    "d.write(b'0123456789abcdef') #前面的b代表二进制 字符串中不能有汉字！！！\n",
    "d.seek(5)# 从文件开头移动5个字符\n",
    "print (d.read(1))\n",
    "d.seek(-3, 2) # 从结尾移动3个字节\n",
    "print (d.read(1))\n",
    "\n",
    "d.close()\n",
    "#当你处理完一个文件后, 调用 f.close() 来关闭文件并释放系统的资源"
   ]
  },
  {
   "cell_type": "code",
   "execution_count": 36,
   "metadata": {},
   "outputs": [
    {
     "name": "stdout",
     "output_type": "stream",
     "text": [
      "文件名为:  fseek.txt\n",
      "文件描述符为:  4\n"
     ]
    }
   ],
   "source": [
    "#fileno()\n",
    "fo = open('fseek.txt', \"rb+\") \n",
    "print (\"文件名为: \", fo.name)\n",
    "\n",
    "fid = fo.fileno()\n",
    "print (\"文件描述符为: \", fid)\n",
    "\n",
    "# 关闭文件\n",
    "fo.close()"
   ]
  },
  {
   "cell_type": "code",
   "execution_count": 37,
   "metadata": {},
   "outputs": [
    {
     "name": "stdout",
     "output_type": "stream",
     "text": [
      "文件名为:  runoob.txt\n",
      "返回值 :  False\n"
     ]
    }
   ],
   "source": [
    "#isatty()\n",
    "fo = open(\"runoob.txt\", \"wb\")\n",
    "print (\"文件名为: \", fo.name)\n",
    "\n",
    "ret = fo.isatty()\n",
    "print (\"返回值 : \", ret)\n",
    "\n",
    "# 关闭文件\n",
    "fo.close()"
   ]
  },
  {
   "cell_type": "markdown",
   "metadata": {},
   "source": [
    "## * 疑问"
   ]
  },
  {
   "cell_type": "code",
   "execution_count": 38,
   "metadata": {},
   "outputs": [
    {
     "name": "stdout",
     "output_type": "stream",
     "text": [
      "读取第一行 \n",
      "读取的字符串为:  \n"
     ]
    }
   ],
   "source": [
    "#readline() ?????????????\n",
    "#-*- coding: UTF-8 -*-\n",
    "\n",
    "# 打开文件\n",
    "fo = open(\"runoob.txt\", \"r+\") #r+ 的指针好像在文本最后，图片中有误\n",
    "\n",
    "\n",
    "line = fo.readline()\n",
    "print (\"读取第一行 %s\" % (line))\n",
    "line = fo.readline(2)\n",
    "print (\"读取的字符串为: %s \" % (line)) \n",
    "fo.close()"
   ]
  },
  {
   "cell_type": "code",
   "execution_count": 39,
   "metadata": {},
   "outputs": [
    {
     "name": "stdout",
     "output_type": "stream",
     "text": [
      "文件名为:  runoob.txt\n"
     ]
    }
   ],
   "source": [
    "#readlines()\n",
    "fo = open(\"runoob.txt\", \"r\")\n",
    "print (\"文件名为: \", fo.name)\n",
    " \n",
    "for line in fo.readlines():                          #依次读取每行  \n",
    "    line = line.strip()                             #去掉每行头尾空白  \n",
    "    print (\"读取的数据为: %s\" % (line))\n",
    " \n",
    "# 关闭文件\n",
    "fo.close()"
   ]
  },
  {
   "cell_type": "code",
   "execution_count": 40,
   "metadata": {},
   "outputs": [
    {
     "name": "stdout",
     "output_type": "stream",
     "text": [
      "文件名:  runoob.txt\n",
      "读取行: \n",
      "读取行: []\n"
     ]
    }
   ],
   "source": [
    "#截取文件\n",
    "fo = open(\"runoob.txt\", \"r+\")\n",
    "print (\"文件名: \", fo.name)\n",
    "\n",
    "line = fo.readline(5) #指针移位\n",
    "print (\"读取行: %s\" % (line))\n",
    "\n",
    "fo.truncate()\n",
    "line = fo.readlines()\n",
    "print (\"读取行: %s\" % (line))\n",
    "\n",
    "# 关闭文件\n",
    "fo.close()"
   ]
  },
  {
   "cell_type": "code",
   "execution_count": 41,
   "metadata": {},
   "outputs": [
    {
     "name": "stdout",
     "output_type": "stream",
     "text": [
      "文件名:  runoob.txt\n",
      "文件行号 0 - 6:www.runoob.com\n"
     ]
    },
    {
     "ename": "StopIteration",
     "evalue": "",
     "output_type": "error",
     "traceback": [
      "\u001b[1;31m---------------------------------------------------------------------------\u001b[0m",
      "\u001b[1;31mStopIteration\u001b[0m                             Traceback (most recent call last)",
      "\u001b[1;32m<ipython-input-41-6cf1ecce8db7>\u001b[0m in \u001b[0;36m<module>\u001b[1;34m()\u001b[0m\n\u001b[0;32m     11\u001b[0m \u001b[0mfo\u001b[0m\u001b[1;33m.\u001b[0m\u001b[0mseek\u001b[0m\u001b[1;33m(\u001b[0m\u001b[1;36m0\u001b[0m\u001b[1;33m,\u001b[0m\u001b[1;36m0\u001b[0m\u001b[1;33m)\u001b[0m\u001b[1;33m\u001b[0m\u001b[0m\n\u001b[0;32m     12\u001b[0m \u001b[1;32mfor\u001b[0m \u001b[0mindex\u001b[0m \u001b[1;32min\u001b[0m \u001b[0mrange\u001b[0m\u001b[1;33m(\u001b[0m\u001b[1;36m6\u001b[0m\u001b[1;33m)\u001b[0m\u001b[1;33m:\u001b[0m\u001b[1;33m\u001b[0m\u001b[0m\n\u001b[1;32m---> 13\u001b[1;33m     \u001b[0mline\u001b[0m \u001b[1;33m=\u001b[0m \u001b[0mnext\u001b[0m\u001b[1;33m(\u001b[0m\u001b[0mfo\u001b[0m\u001b[1;33m)\u001b[0m\u001b[1;33m\u001b[0m\u001b[0m\n\u001b[0m\u001b[0;32m     14\u001b[0m     \u001b[0mprint\u001b[0m \u001b[1;33m(\u001b[0m\u001b[1;34m\"文件行号 %d - %s\"\u001b[0m \u001b[1;33m%\u001b[0m \u001b[1;33m(\u001b[0m\u001b[0mindex\u001b[0m\u001b[1;33m,\u001b[0m \u001b[0mline\u001b[0m\u001b[1;33m)\u001b[0m\u001b[1;33m)\u001b[0m\u001b[1;33m\u001b[0m\u001b[0m\n\u001b[0;32m     15\u001b[0m \u001b[1;33m\u001b[0m\u001b[0m\n",
      "\u001b[1;31mStopIteration\u001b[0m: "
     ]
    }
   ],
   "source": [
    "##写入文件\n",
    "fo = open(\"runoob.txt\", \"r+\")\n",
    "print (\"文件名: \", fo.name)\n",
    "\n",
    "str = \"6:www.runoob.com\"\n",
    "# 在文件末尾写入一行\n",
    "fo.seek(0, 2)\n",
    "line = fo.write( str )\n",
    "\n",
    "# 读取文件所有内容\n",
    "fo.seek(0,0)\n",
    "for index in range(6):\n",
    "    line = next(fo)\n",
    "    print (\"文件行号 %d - %s\" % (index, line))\n",
    "\n",
    "# 关闭文件\n",
    "fo.close()"
   ]
  },
  {
   "cell_type": "code",
   "execution_count": 42,
   "metadata": {},
   "outputs": [
    {
     "name": "stdout",
     "output_type": "stream",
     "text": [
      "文件名为:  test.txt\n"
     ]
    }
   ],
   "source": [
    "# writelines() 方法的使用\n",
    "# 打开文件\n",
    "fo = open(\"test.txt\", \"a\")\n",
    "print (\"文件名为: \", fo.name)\n",
    "#seq = [\"菜鸟教程 3\\n\", \"菜鸟教程 4\"]\n",
    "seq='asdfghjkl我们时间'\n",
    "fo.writelines( seq )\n",
    "\n",
    "# 关闭文件\n",
    "fo.close()"
   ]
  }
 ],
 "metadata": {
  "kernelspec": {
   "display_name": "Python 3",
   "language": "python",
   "name": "python3"
  },
  "language_info": {
   "codemirror_mode": {
    "name": "ipython",
    "version": 3
   },
   "file_extension": ".py",
   "mimetype": "text/x-python",
   "name": "python",
   "nbconvert_exporter": "python",
   "pygments_lexer": "ipython3",
   "version": "3.6.3"
  }
 },
 "nbformat": 4,
 "nbformat_minor": 2
}
